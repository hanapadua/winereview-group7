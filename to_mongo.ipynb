{
 "cells": [
  {
   "cell_type": "code",
   "execution_count": 1,
   "id": "b6e63a85-6836-4d7d-9282-2835cffcfabd",
   "metadata": {},
   "outputs": [],
   "source": [
    "import pandas as pd\n",
    "import pymongo"
   ]
  },
  {
   "cell_type": "code",
   "execution_count": 2,
   "id": "63230d4e-238d-4e20-aa4f-6559a377d2bc",
   "metadata": {},
   "outputs": [],
   "source": [
    "filename = \"Ryan_Cleaned_Data/CombinedTotal.csv\"\n",
    "df = pd.read_csv(filename, low_memory = False)"
   ]
  },
  {
   "cell_type": "code",
   "execution_count": 3,
   "id": "366063fe-8c82-4497-b3d9-aec80a86c79d",
   "metadata": {},
   "outputs": [],
   "source": [
    "conn = 'mongodb://localhost:27017'\n",
    "client = pymongo.MongoClient(conn)\n",
    "\n",
    "db = client.wine_db"
   ]
  },
  {
   "cell_type": "code",
   "execution_count": 4,
   "id": "1f005988-194a-44de-9c96-1ec09ef9a93a",
   "metadata": {},
   "outputs": [
    {
     "data": {
      "text/plain": [
       "<pymongo.results.InsertManyResult at 0x1bbbc8fa340>"
      ]
     },
     "execution_count": 4,
     "metadata": {},
     "output_type": "execute_result"
    }
   ],
   "source": [
    "db.data.insert_many(df.to_dict(orient=\"index\").values())"
   ]
  },
  {
   "cell_type": "code",
   "execution_count": null,
   "id": "2646c191-43b1-45b1-b264-b02cbc98ef3d",
   "metadata": {},
   "outputs": [],
   "source": []
  }
 ],
 "metadata": {
  "kernelspec": {
   "display_name": "Python 3",
   "language": "python",
   "name": "python3"
  },
  "language_info": {
   "codemirror_mode": {
    "name": "ipython",
    "version": 3
   },
   "file_extension": ".py",
   "mimetype": "text/x-python",
   "name": "python",
   "nbconvert_exporter": "python",
   "pygments_lexer": "ipython3",
   "version": "3.9.5"
  }
 },
 "nbformat": 4,
 "nbformat_minor": 5
}
