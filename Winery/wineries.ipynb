{
 "cells": [
  {
   "cell_type": "code",
   "execution_count": 1,
   "id": "d130c130-9938-406a-9b63-3661c5437c0a",
   "metadata": {},
   "outputs": [],
   "source": [
    "import pandas as pd\n",
    "import pymongo"
   ]
  },
  {
   "cell_type": "code",
   "execution_count": 2,
   "id": "07174082-e7d5-4d5e-8836-a3780573fd7c",
   "metadata": {},
   "outputs": [
    {
     "name": "stderr",
     "output_type": "stream",
     "text": [
      "c:\\users\\mnyon\\appdata\\local\\programs\\python\\python39\\lib\\site-packages\\IPython\\core\\interactiveshell.py:3169: DtypeWarning: Columns (10) have mixed types.Specify dtype option on import or set low_memory=False.\n",
      "  has_raised = await self.run_ast_nodes(code_ast.body, cell_name,\n"
     ]
    }
   ],
   "source": [
    "df = pd.read_csv(\"../Ryan_Cleaned_Data/CombinedTotal.csv\")"
   ]
  },
  {
   "cell_type": "code",
   "execution_count": 4,
   "id": "fdd25302-2f5d-417e-ba94-3cfeab12e246",
   "metadata": {},
   "outputs": [],
   "source": [
    "df = df.drop_duplicates(subset = [\"Description\", \"Country\", \"Province\"], keep = \"first\").drop_duplicates(subset = [\"Description\", \"Country\"], keep = \"first\")"
   ]
  },
  {
   "cell_type": "code",
   "execution_count": 5,
   "id": "df5ad2e5-844a-40b0-9c27-b19960ee4b6c",
   "metadata": {},
   "outputs": [
    {
     "data": {
      "text/plain": [
       "169435"
      ]
     },
     "execution_count": 5,
     "metadata": {},
     "output_type": "execute_result"
    }
   ],
   "source": [
    "len(df)"
   ]
  },
  {
   "cell_type": "code",
   "execution_count": 6,
   "id": "5b1bd351-1d5a-4916-93c8-d06ae32b9910",
   "metadata": {},
   "outputs": [
    {
     "data": {
      "text/plain": [
       "False    18975\n",
       "True       205\n",
       "Name: Country, dtype: int64"
      ]
     },
     "execution_count": 6,
     "metadata": {},
     "output_type": "execute_result"
    }
   ],
   "source": [
    "(df[[\"Winery\", \"Country\"]].groupby(\"Winery\")[\"Country\"].nunique() > 1).value_counts()"
   ]
  },
  {
   "cell_type": "code",
   "execution_count": 7,
   "id": "7699575a-0299-4d58-ae92-825143855eb0",
   "metadata": {},
   "outputs": [
    {
     "data": {
      "text/plain": [
       "False    17358\n",
       "True      1822\n",
       "Name: Province, dtype: int64"
      ]
     },
     "execution_count": 7,
     "metadata": {},
     "output_type": "execute_result"
    }
   ],
   "source": [
    "(df[[\"Winery\", \"Province\"]].groupby(\"Winery\")[\"Province\"].nunique() > 1).value_counts()"
   ]
  },
  {
   "cell_type": "code",
   "execution_count": 8,
   "id": "c860ae47-5be2-49ef-bb85-33de9e69368a",
   "metadata": {},
   "outputs": [],
   "source": [
    "# Combine region_1 and region_2 into a single column using lists\n",
    "region_list = []\n",
    "\n",
    "for thing in df.iterrows():\n",
    "    region_1 = str(list(thing)[1].loc[\"Region_1\"])\n",
    "    region_2 = str(list(thing)[1].loc[\"Region_2\"])\n",
    "\n",
    "# list containing the number of region entries for each row\n",
    "    if region_2 == \"nan\":\n",
    "        if region_1 == \"nan\":\n",
    "            region = []\n",
    "        else:\n",
    "            region = [region_1]\n",
    "    else:\n",
    "        region = [region_1, region_2]\n",
    "\n",
    "    region_list.append(region)\n",
    "\n",
    "df[\"Region\"] = region_list"
   ]
  },
  {
   "cell_type": "code",
   "execution_count": 9,
   "id": "a32829c4-5c7d-4790-af58-62535e17b636",
   "metadata": {},
   "outputs": [],
   "source": [
    "wcp = [\"Winery\", \"Country\", \"Province\"]"
   ]
  },
  {
   "cell_type": "code",
   "execution_count": 10,
   "id": "a80dc61a-4683-43b9-aa30-50c614e1241b",
   "metadata": {},
   "outputs": [],
   "source": [
    "# build dataframe of info for each winery\n",
    "winery_df = pd.DataFrame()"
   ]
  },
  {
   "cell_type": "code",
   "execution_count": 11,
   "id": "c7eb368b-0fa0-43df-b976-93e2b3ed2afe",
   "metadata": {},
   "outputs": [],
   "source": [
    "# mean points and prices\n",
    "winery_df[[\"Points_Mean\", \"Price_Mean\"]] = df[[\"Winery\", \"Country\", \"Province\", \"Points\", \"Price\"]].groupby(wcp).mean().round(1)"
   ]
  },
  {
   "cell_type": "code",
   "execution_count": 12,
   "id": "80bdc8b1-c9c6-498e-8dd9-9de0f9addb86",
   "metadata": {},
   "outputs": [],
   "source": [
    "# median points and prices\n",
    "winery_df[[\"Points_Median\", \"Price_Median\"]] = df[[\"Winery\", \"Country\", \"Province\", \"Points\", \"Price\"]].groupby(wcp).median()"
   ]
  },
  {
   "cell_type": "code",
   "execution_count": 13,
   "id": "af4a4547-13dd-4ff2-90ae-512f7012ab40",
   "metadata": {},
   "outputs": [],
   "source": [
    "# total number of reviews\n",
    "winery_df[\"Total_Reviews\"] = df[[\"Winery\", \"Country\", \"Province\", \"Description\"]].groupby(wcp).count()"
   ]
  },
  {
   "cell_type": "code",
   "execution_count": 14,
   "id": "2aa24a2f-be09-462c-9944-f032ac90b3d6",
   "metadata": {},
   "outputs": [],
   "source": [
    "# count the number of different wine varieties\n",
    "winery_df[\"N_Varieties\"] = df[[\"Winery\", \"Country\", \"Province\", \"Variety\"]].groupby(wcp).nunique()"
   ]
  },
  {
   "cell_type": "code",
   "execution_count": 15,
   "id": "e2e03fd6-41bb-4e7f-bb53-ee01b89a8ee3",
   "metadata": {},
   "outputs": [],
   "source": [
    "# list of each type of wine variety\n",
    "wine_types = df[[\"Winery\", \"Country\", \"Province\", \"Variety\"]].groupby(wcp)[\"Variety\"].unique()\n",
    "wine_list = []\n",
    "\n",
    "for item in wine_types:\n",
    "    wines = item.tolist()\n",
    "    wine_list.append(wines)\n",
    "    \n",
    "winery_df[\"Varieties\"] = wine_list"
   ]
  },
  {
   "cell_type": "code",
   "execution_count": 16,
   "id": "68c03d45-d95e-40d4-9106-1331de171420",
   "metadata": {},
   "outputs": [],
   "source": [
    "# region data\n",
    "winery_df[\"Region\"] = df[[\"Winery\", \"Country\", \"Province\", \"Region\"]].groupby(wcp).first()"
   ]
  },
  {
   "cell_type": "code",
   "execution_count": 17,
   "id": "b8e7d7ed-01c7-40d9-aac4-7302b377e583",
   "metadata": {},
   "outputs": [
    {
     "data": {
      "text/html": [
       "<div>\n",
       "<style scoped>\n",
       "    .dataframe tbody tr th:only-of-type {\n",
       "        vertical-align: middle;\n",
       "    }\n",
       "\n",
       "    .dataframe tbody tr th {\n",
       "        vertical-align: top;\n",
       "    }\n",
       "\n",
       "    .dataframe thead th {\n",
       "        text-align: right;\n",
       "    }\n",
       "</style>\n",
       "<table border=\"1\" class=\"dataframe\">\n",
       "  <thead>\n",
       "    <tr style=\"text-align: right;\">\n",
       "      <th></th>\n",
       "      <th></th>\n",
       "      <th></th>\n",
       "      <th>Points_Mean</th>\n",
       "      <th>Price_Mean</th>\n",
       "      <th>Points_Median</th>\n",
       "      <th>Price_Median</th>\n",
       "      <th>Total_Reviews</th>\n",
       "      <th>N_Varieties</th>\n",
       "      <th>Varieties</th>\n",
       "      <th>Region</th>\n",
       "    </tr>\n",
       "    <tr>\n",
       "      <th>Winery</th>\n",
       "      <th>Country</th>\n",
       "      <th>Province</th>\n",
       "      <th></th>\n",
       "      <th></th>\n",
       "      <th></th>\n",
       "      <th></th>\n",
       "      <th></th>\n",
       "      <th></th>\n",
       "      <th></th>\n",
       "      <th></th>\n",
       "    </tr>\n",
       "  </thead>\n",
       "  <tbody>\n",
       "    <tr>\n",
       "      <th>'37 Cellars</th>\n",
       "      <th>US</th>\n",
       "      <th>Washington</th>\n",
       "      <td>88.0</td>\n",
       "      <td>NaN</td>\n",
       "      <td>88.0</td>\n",
       "      <td>NaN</td>\n",
       "      <td>1</td>\n",
       "      <td>1</td>\n",
       "      <td>[Cabernet Sauvignon]</td>\n",
       "      <td>[Columbia Valley (WA), Columbia Valley]</td>\n",
       "    </tr>\n",
       "    <tr>\n",
       "      <th>1+1=3</th>\n",
       "      <th>Spain</th>\n",
       "      <th>Catalonia</th>\n",
       "      <td>85.5</td>\n",
       "      <td>16.3</td>\n",
       "      <td>86.0</td>\n",
       "      <td>16.0</td>\n",
       "      <td>10</td>\n",
       "      <td>3</td>\n",
       "      <td>[Rosé, Cabernet Sauvignon, Sparkling Blend]</td>\n",
       "      <td>[Penedès]</td>\n",
       "    </tr>\n",
       "    <tr>\n",
       "      <th>10 Knots</th>\n",
       "      <th>US</th>\n",
       "      <th>California</th>\n",
       "      <td>84.4</td>\n",
       "      <td>23.3</td>\n",
       "      <td>84.0</td>\n",
       "      <td>22.0</td>\n",
       "      <td>11</td>\n",
       "      <td>7</td>\n",
       "      <td>[Grenache, Rhône-style White Blend, Chardonnay...</td>\n",
       "      <td>[Paso Robles, Central Coast]</td>\n",
       "    </tr>\n",
       "    <tr>\n",
       "      <th>100 Percent Wine</th>\n",
       "      <th>US</th>\n",
       "      <th>California</th>\n",
       "      <td>86.3</td>\n",
       "      <td>18.0</td>\n",
       "      <td>86.0</td>\n",
       "      <td>18.0</td>\n",
       "      <td>3</td>\n",
       "      <td>3</td>\n",
       "      <td>[Moscato, Sauvignon Blanc, Red Blend]</td>\n",
       "      <td>[California, California Other]</td>\n",
       "    </tr>\n",
       "    <tr>\n",
       "      <th>1000 Stories</th>\n",
       "      <th>US</th>\n",
       "      <th>California</th>\n",
       "      <td>90.5</td>\n",
       "      <td>19.0</td>\n",
       "      <td>90.5</td>\n",
       "      <td>19.0</td>\n",
       "      <td>2</td>\n",
       "      <td>1</td>\n",
       "      <td>[Zinfandel]</td>\n",
       "      <td>[California, California Other]</td>\n",
       "    </tr>\n",
       "  </tbody>\n",
       "</table>\n",
       "</div>"
      ],
      "text/plain": [
       "                                     Points_Mean  Price_Mean  Points_Median  \\\n",
       "Winery           Country Province                                             \n",
       "'37 Cellars      US      Washington         88.0         NaN           88.0   \n",
       "1+1=3            Spain   Catalonia          85.5        16.3           86.0   \n",
       "10 Knots         US      California         84.4        23.3           84.0   \n",
       "100 Percent Wine US      California         86.3        18.0           86.0   \n",
       "1000 Stories     US      California         90.5        19.0           90.5   \n",
       "\n",
       "                                     Price_Median  Total_Reviews  N_Varieties  \\\n",
       "Winery           Country Province                                               \n",
       "'37 Cellars      US      Washington           NaN              1            1   \n",
       "1+1=3            Spain   Catalonia           16.0             10            3   \n",
       "10 Knots         US      California          22.0             11            7   \n",
       "100 Percent Wine US      California          18.0              3            3   \n",
       "1000 Stories     US      California          19.0              2            1   \n",
       "\n",
       "                                                                             Varieties  \\\n",
       "Winery           Country Province                                                        \n",
       "'37 Cellars      US      Washington                               [Cabernet Sauvignon]   \n",
       "1+1=3            Spain   Catalonia         [Rosé, Cabernet Sauvignon, Sparkling Blend]   \n",
       "10 Knots         US      California  [Grenache, Rhône-style White Blend, Chardonnay...   \n",
       "100 Percent Wine US      California              [Moscato, Sauvignon Blanc, Red Blend]   \n",
       "1000 Stories     US      California                                        [Zinfandel]   \n",
       "\n",
       "                                                                      Region  \n",
       "Winery           Country Province                                             \n",
       "'37 Cellars      US      Washington  [Columbia Valley (WA), Columbia Valley]  \n",
       "1+1=3            Spain   Catalonia                                 [Penedès]  \n",
       "10 Knots         US      California             [Paso Robles, Central Coast]  \n",
       "100 Percent Wine US      California           [California, California Other]  \n",
       "1000 Stories     US      California           [California, California Other]  "
      ]
     },
     "execution_count": 17,
     "metadata": {},
     "output_type": "execute_result"
    }
   ],
   "source": [
    "winery_df.head()"
   ]
  },
  {
   "cell_type": "code",
   "execution_count": 18,
   "id": "c6bc6969-16f6-4b23-b439-2d41cd207310",
   "metadata": {},
   "outputs": [
    {
     "data": {
      "text/plain": [
       "22123"
      ]
     },
     "execution_count": 18,
     "metadata": {},
     "output_type": "execute_result"
    }
   ],
   "source": [
    "len(winery_df)"
   ]
  },
  {
   "cell_type": "code",
   "execution_count": 19,
   "id": "e5511a84-949b-48e3-9621-2478cf978b17",
   "metadata": {},
   "outputs": [],
   "source": [
    "# add winery name, country, and province as columns instead of indices\n",
    "winery_df = winery_df.reset_index()"
   ]
  },
  {
   "cell_type": "code",
   "execution_count": 21,
   "id": "61a57dc4-776d-49af-a19c-da26e5c505ac",
   "metadata": {},
   "outputs": [],
   "source": [
    "# column rearrangement\n",
    "cols = ['Winery', 'Points_Mean', 'Price_Mean', 'Points_Median', 'Price_Median', 'Total_Reviews', 'N_Varieties', 'Varieties', 'Country', 'Province', 'Region']\n",
    "winery_df = winery_df[cols]"
   ]
  },
  {
   "cell_type": "code",
   "execution_count": 22,
   "id": "853fb572-3e44-4129-8f3c-ee028535773c",
   "metadata": {},
   "outputs": [
    {
     "data": {
      "text/html": [
       "<div>\n",
       "<style scoped>\n",
       "    .dataframe tbody tr th:only-of-type {\n",
       "        vertical-align: middle;\n",
       "    }\n",
       "\n",
       "    .dataframe tbody tr th {\n",
       "        vertical-align: top;\n",
       "    }\n",
       "\n",
       "    .dataframe thead th {\n",
       "        text-align: right;\n",
       "    }\n",
       "</style>\n",
       "<table border=\"1\" class=\"dataframe\">\n",
       "  <thead>\n",
       "    <tr style=\"text-align: right;\">\n",
       "      <th></th>\n",
       "      <th>Winery</th>\n",
       "      <th>Points_Mean</th>\n",
       "      <th>Price_Mean</th>\n",
       "      <th>Points_Median</th>\n",
       "      <th>Price_Median</th>\n",
       "      <th>Total_Reviews</th>\n",
       "      <th>N_Varieties</th>\n",
       "      <th>Varieties</th>\n",
       "      <th>Country</th>\n",
       "      <th>Province</th>\n",
       "      <th>Region</th>\n",
       "    </tr>\n",
       "  </thead>\n",
       "  <tbody>\n",
       "    <tr>\n",
       "      <th>0</th>\n",
       "      <td>'37 Cellars</td>\n",
       "      <td>88.0</td>\n",
       "      <td>NaN</td>\n",
       "      <td>88.0</td>\n",
       "      <td>NaN</td>\n",
       "      <td>1</td>\n",
       "      <td>1</td>\n",
       "      <td>[Cabernet Sauvignon]</td>\n",
       "      <td>US</td>\n",
       "      <td>Washington</td>\n",
       "      <td>[Columbia Valley (WA), Columbia Valley]</td>\n",
       "    </tr>\n",
       "    <tr>\n",
       "      <th>1</th>\n",
       "      <td>1+1=3</td>\n",
       "      <td>85.5</td>\n",
       "      <td>16.3</td>\n",
       "      <td>86.0</td>\n",
       "      <td>16.0</td>\n",
       "      <td>10</td>\n",
       "      <td>3</td>\n",
       "      <td>[Rosé, Cabernet Sauvignon, Sparkling Blend]</td>\n",
       "      <td>Spain</td>\n",
       "      <td>Catalonia</td>\n",
       "      <td>[Penedès]</td>\n",
       "    </tr>\n",
       "    <tr>\n",
       "      <th>2</th>\n",
       "      <td>10 Knots</td>\n",
       "      <td>84.4</td>\n",
       "      <td>23.3</td>\n",
       "      <td>84.0</td>\n",
       "      <td>22.0</td>\n",
       "      <td>11</td>\n",
       "      <td>7</td>\n",
       "      <td>[Grenache, Rhône-style White Blend, Chardonnay...</td>\n",
       "      <td>US</td>\n",
       "      <td>California</td>\n",
       "      <td>[Paso Robles, Central Coast]</td>\n",
       "    </tr>\n",
       "    <tr>\n",
       "      <th>3</th>\n",
       "      <td>100 Percent Wine</td>\n",
       "      <td>86.3</td>\n",
       "      <td>18.0</td>\n",
       "      <td>86.0</td>\n",
       "      <td>18.0</td>\n",
       "      <td>3</td>\n",
       "      <td>3</td>\n",
       "      <td>[Moscato, Sauvignon Blanc, Red Blend]</td>\n",
       "      <td>US</td>\n",
       "      <td>California</td>\n",
       "      <td>[California, California Other]</td>\n",
       "    </tr>\n",
       "    <tr>\n",
       "      <th>4</th>\n",
       "      <td>1000 Stories</td>\n",
       "      <td>90.5</td>\n",
       "      <td>19.0</td>\n",
       "      <td>90.5</td>\n",
       "      <td>19.0</td>\n",
       "      <td>2</td>\n",
       "      <td>1</td>\n",
       "      <td>[Zinfandel]</td>\n",
       "      <td>US</td>\n",
       "      <td>California</td>\n",
       "      <td>[California, California Other]</td>\n",
       "    </tr>\n",
       "  </tbody>\n",
       "</table>\n",
       "</div>"
      ],
      "text/plain": [
       "             Winery  Points_Mean  Price_Mean  Points_Median  Price_Median  \\\n",
       "0       '37 Cellars         88.0         NaN           88.0           NaN   \n",
       "1             1+1=3         85.5        16.3           86.0          16.0   \n",
       "2          10 Knots         84.4        23.3           84.0          22.0   \n",
       "3  100 Percent Wine         86.3        18.0           86.0          18.0   \n",
       "4      1000 Stories         90.5        19.0           90.5          19.0   \n",
       "\n",
       "   Total_Reviews  N_Varieties  \\\n",
       "0              1            1   \n",
       "1             10            3   \n",
       "2             11            7   \n",
       "3              3            3   \n",
       "4              2            1   \n",
       "\n",
       "                                           Varieties Country    Province  \\\n",
       "0                               [Cabernet Sauvignon]      US  Washington   \n",
       "1        [Rosé, Cabernet Sauvignon, Sparkling Blend]   Spain   Catalonia   \n",
       "2  [Grenache, Rhône-style White Blend, Chardonnay...      US  California   \n",
       "3              [Moscato, Sauvignon Blanc, Red Blend]      US  California   \n",
       "4                                        [Zinfandel]      US  California   \n",
       "\n",
       "                                    Region  \n",
       "0  [Columbia Valley (WA), Columbia Valley]  \n",
       "1                                [Penedès]  \n",
       "2             [Paso Robles, Central Coast]  \n",
       "3           [California, California Other]  \n",
       "4           [California, California Other]  "
      ]
     },
     "execution_count": 22,
     "metadata": {},
     "output_type": "execute_result"
    }
   ],
   "source": [
    "winery_df.head()"
   ]
  },
  {
   "cell_type": "code",
   "execution_count": 23,
   "id": "a7cdd5bd-4eea-4576-8dea-e649865e1ae1",
   "metadata": {},
   "outputs": [],
   "source": [
    "# create mongo database\n",
    "conn = 'mongodb://localhost:27017'\n",
    "client = pymongo.MongoClient(conn)\n",
    "db = client.winery_db"
   ]
  },
  {
   "cell_type": "code",
   "execution_count": 24,
   "id": "3c770713-52ea-4d14-90cf-0452f4fb570e",
   "metadata": {},
   "outputs": [],
   "source": [
    "# convert winery dataframe to dictionary\n",
    "winery_dict = winery_df.fillna(\"\").to_dict(orient = \"index\")"
   ]
  },
  {
   "cell_type": "code",
   "execution_count": 25,
   "id": "5241ecc0-1c2c-4cb8-b952-533dca97f8da",
   "metadata": {},
   "outputs": [
    {
     "data": {
      "text/plain": [
       "<pymongo.results.InsertManyResult at 0x25d8feec380>"
      ]
     },
     "execution_count": 25,
     "metadata": {},
     "output_type": "execute_result"
    }
   ],
   "source": [
    "# insert dictionary into winery_db.data\n",
    "db.data.insert_many(winery_dict.values())"
   ]
  },
  {
   "cell_type": "code",
   "execution_count": 26,
   "id": "328daf5c-3863-4f92-846c-b39deb993992",
   "metadata": {},
   "outputs": [],
   "source": [
    "winery_df.to_csv(\"wineries.csv\")"
   ]
  },
  {
   "cell_type": "code",
   "execution_count": 27,
   "id": "128a3a04-c108-4b71-8a72-afeaa1ea3b7a",
   "metadata": {},
   "outputs": [
    {
     "data": {
      "text/plain": [
       "Winery              Province            \n",
       "'37 Cellars         Washington              False\n",
       "Mount Michael       Central Otago           False\n",
       "Mount St. Helena    California              False\n",
       "Mount Si            Washington              False\n",
       "Mount Riley         South Island            False\n",
       "                                            ...  \n",
       "Domaine Belland     Burgundy                False\n",
       "Domaine Begude      Languedoc-Roussillon    False\n",
       "Domaine Becquet     California              False\n",
       "Domaine Beauséjour  Loire Valley            False\n",
       "Štoka               Kras                    False\n",
       "Length: 22123, dtype: bool"
      ]
     },
     "execution_count": 27,
     "metadata": {},
     "output_type": "execute_result"
    }
   ],
   "source": [
    "winery_df[[\"Winery\", \"Province\"]].value_counts() > 1"
   ]
  },
  {
   "cell_type": "code",
   "execution_count": 28,
   "id": "2e75b76c-857f-4be9-a8ab-7f651e4016c0",
   "metadata": {},
   "outputs": [
    {
     "data": {
      "text/plain": [
       "Winery                          Country \n",
       "Undurraga                       Chile        True\n",
       "Concha y Toro                   Chile        True\n",
       "Santa Carolina                  Chile        True\n",
       "Casca Wines                     Portugal     True\n",
       "Valdivieso                      Chile        True\n",
       "                                            ...  \n",
       "Domaine Coquard Loison-Fleurot  France      False\n",
       "Domaine Combe Blanche           France      False\n",
       "Domaine Collotte                France      False\n",
       "Domaine Clusel-Roch             France      False\n",
       "Štoka                           Slovenia    False\n",
       "Length: 19442, dtype: bool"
      ]
     },
     "execution_count": 28,
     "metadata": {},
     "output_type": "execute_result"
    }
   ],
   "source": [
    "winery_df[[\"Winery\", \"Country\"]].value_counts() > 1"
   ]
  },
  {
   "cell_type": "code",
   "execution_count": null,
   "id": "2a3f0424-61fd-417e-9e3b-c1db9728a3c6",
   "metadata": {},
   "outputs": [],
   "source": []
  }
 ],
 "metadata": {
  "kernelspec": {
   "display_name": "Python 3",
   "language": "python",
   "name": "python3"
  },
  "language_info": {
   "codemirror_mode": {
    "name": "ipython",
    "version": 3
   },
   "file_extension": ".py",
   "mimetype": "text/x-python",
   "name": "python",
   "nbconvert_exporter": "python",
   "pygments_lexer": "ipython3",
   "version": "3.9.5"
  }
 },
 "nbformat": 4,
 "nbformat_minor": 5
}
